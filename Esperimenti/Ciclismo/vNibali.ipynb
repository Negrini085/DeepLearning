{
 "cells": [
  {
   "cell_type": "markdown",
   "id": "4738fc02",
   "metadata": {},
   "source": [
    "<center>\n",
    "<h1 style=\"color:red; font-size:70px;\"> Vincenzo Nibali</h1>"
   ]
  },
  {
   "cell_type": "markdown",
   "id": "91c03814",
   "metadata": {},
   "source": [
    "L'obiettivo di questo JupiterNotebook è quello di imparare ad usare il pacchetto procyclingstats. Per questo motivo farò un po' di analisi sul goat del ciclismo italiano, ossia Vincenzo Nibali."
   ]
  },
  {
   "cell_type": "markdown",
   "id": "aaf9e926",
   "metadata": {},
   "source": [
    "<center>\n",
    "\n",
    "![Goat](Immagini/enzo.png)"
   ]
  },
  {
   "cell_type": "code",
   "execution_count": 12,
   "id": "b0341a0f",
   "metadata": {},
   "outputs": [],
   "source": [
    "# Importo il profilo di Vincenzo Nibali\n",
    "from procyclingstats import Rider\n",
    "rider = Rider(\"rider/vincenzo-nibali/2021\")"
   ]
  },
  {
   "cell_type": "code",
   "execution_count": 27,
   "id": "20e9150b",
   "metadata": {},
   "outputs": [
    {
     "name": "stdout",
     "output_type": "stream",
     "text": [
      "[[13, 239.0], [44, 190.0], [17, 196.7], [1, 180.0], [11, 180.0], [28, 173.0], [56, 179.0], [43, 187.4], [22, 183.7], [10, 25.4], [50, 189.3], [14, 186.1], [34, 140.0], [53, 234.0], [None, 169.0], [11, 191.3], [46, 183.7], [89, 219.9], [96, 159.4], [57, 198.9], [130, 190.7], [51, 144.9], [41, 150.8], [13, 249.1], [49, 160.4], [49, 27.2], [31, 150.4], [21, 182.9], [33, 183.5], [18, 197.8], [9, 225.9], [38, 30.3], [38, 164.0], [23, 166.0], [97, 231.0], [70, 193.0], [17, 153.0], [62, 147.0], [45, 205.0], [40, 198.0], [15, 212.0], [24, 162.0], [25, 139.0], [21, 158.0], [30, 170.0], [31, 181.0], [18, 160.0], [36, 177.0], [27, 187.0], [46, 190.0], [34, 179.0], [50, 8.6], [34, 299.0], [36, 10.1], [51, 169.0], [20, 205.0], [16, 148.0], [21, 219.0], [16, 202.0], [83, 156.0], [10, 193.4], [25, 202.0], [32, 147.0], [39, 165.0], [29, 170.0], [41, 204.0], [13, 166.0], [36, 13.0], [82, 176.0], [18, 10.74], [46, 152.0], [42, 156.9], [40, 153.8], [13, 143.6]]\n"
     ]
    }
   ],
   "source": [
    "season = rider.season_results(\n",
    "            \"result\", \n",
    "            \"distance\"\n",
    "        )\n",
    "\n",
    "dataset = [\n",
    "    [i['result'], i['distance']]\n",
    "    for i in season\n",
    "    if i['distance'] is not None\n",
    "]\n",
    "print(dataset)"
   ]
  }
 ],
 "metadata": {
  "kernelspec": {
   "display_name": "Python 3",
   "language": "python",
   "name": "python3"
  },
  "language_info": {
   "codemirror_mode": {
    "name": "ipython",
    "version": 3
   },
   "file_extension": ".py",
   "mimetype": "text/x-python",
   "name": "python",
   "nbconvert_exporter": "python",
   "pygments_lexer": "ipython3",
   "version": "3.10.12"
  }
 },
 "nbformat": 4,
 "nbformat_minor": 5
}
