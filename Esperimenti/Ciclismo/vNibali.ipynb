{
 "cells": [
  {
   "cell_type": "markdown",
   "id": "4738fc02",
   "metadata": {},
   "source": [
    "<center>\n",
    "<h1 style=\"color:red; font-size:70px;\"> Vincenzo Nibali</h1>"
   ]
  },
  {
   "cell_type": "markdown",
   "id": "91c03814",
   "metadata": {},
   "source": [
    "L'obiettivo di questo JupiterNotebook è quello di imparare ad usare il pacchetto procyclingstats. Per questo motivo farò un po' di analisi sul goat del ciclismo italiano, ossia Vincenzo Nibali."
   ]
  },
  {
   "cell_type": "markdown",
   "id": "aaf9e926",
   "metadata": {},
   "source": [
    "<center>\n",
    "\n",
    "![Goat](Immagini/enzo.png)"
   ]
  },
  {
   "cell_type": "code",
   "execution_count": 11,
   "id": "b0341a0f",
   "metadata": {},
   "outputs": [],
   "source": [
    "# Importo il profilo di Vincenzo Nibali\n",
    "from procyclingstats import Rider\n",
    "from procyclingstats import Stage\n",
    "rider = Rider(\"rider/vincenzo-nibali/2021\")"
   ]
  },
  {
   "cell_type": "code",
   "execution_count": 12,
   "id": "3d43dc4a",
   "metadata": {},
   "outputs": [],
   "source": [
    "season = rider.season_results(\n",
    "            \"stage_url\", \n",
    "            \"result\", \n",
    "            \"distance\"\n",
    "        )"
   ]
  },
  {
   "cell_type": "code",
   "execution_count": 17,
   "id": "9e76691a",
   "metadata": {},
   "outputs": [
    {
     "name": "stdout",
     "output_type": "stream",
     "text": [
      "[['il-lombardia 2021', 13, 239.0, 39.652, 4659, 210, 'RR'], ['milano-torino 2021', 44, 190.0, 44.24, 1725, 182, 'RR'], ['tre-valli-varesine 2021', 17, 196.7, 41.112, 3264, 153, 'RR'], ['giro-di-sicilia 2021 stage-4', 1, 180.0, 40.834, 3095, 143, 'RR'], ['giro-di-sicilia 2021 stage-3', 11, 180.0, 38.232, 3330, 129, 'RR'], ['giro-di-sicilia 2021 stage-2', 28, 173.0, 39.069, 2498, 68, 'RR'], ['giro-di-sicilia 2021 stage-1', 56, 179.0, 38.724, 1851, 31, 'RR'], ['eschborn-frankfurt 2021', 43, 187.4, 41.947, 2657, 89, 'RR'], ['tour-de-luxembourg 2021 stage-5', 22, 183.7, 40.674, 3298, 154, 'RR'], ['tour-de-luxembourg 2021 stage-4', 10, 25.4, 49.347, 287, 12, 'ITT'], ['tour-de-luxembourg 2021 stage-3', 50, 189.3, 44.06, 2433, 73, 'RR'], ['tour-de-luxembourg 2021 stage-2', 14, 186.1, 39.151, 3302, 170, 'RR'], ['tour-de-luxembourg 2021 stage-1', 34, 140.0, 42.824, 2008, 104, 'RR'], ['olympic-games 2021', 53, 234.0, 38.42, 4582, 229, 'RR'], ['tour-de-france 2021 stage-15', 11, 191.3, 36.777, 4572, 234, 'RR'], ['tour-de-france 2021 stage-14', 46, 183.7, 43.01, 2877, 125, 'RR'], ['tour-de-france 2021 stage-13', 89, 219.9, 43.332, 2023, 29, 'RR'], ['tour-de-france 2021 stage-12', 96, 159.4, 47.3, 2052, 52, 'RR'], ['tour-de-france 2021 stage-11', 57, 198.9, 37.562, 4671, 282, 'RR'], ['tour-de-france 2021 stage-10', 130, 190.7, 45.027, 1488, 29, 'RR'], ['tour-de-france 2021 stage-9', 51, 144.9, 32.596, 4628, 381, 'RR'], ['tour-de-france 2021 stage-8', 41, 150.8, 38.554, 3557, 310, 'RR'], ['tour-de-france 2021 stage-7', 13, 249.1, 45.521, 3120, 146, 'RR'], ['tour-de-france 2021 stage-6', 49, 160.4, 48.704, 977, 5, 'RR'], ['tour-de-france 2021 stage-5', 49, 27.2, 51.0, 356, 17, 'ITT'], ['tour-de-france 2021 stage-4', 31, 150.4, 45.056, 1404, 24, 'RR'], ['tour-de-france 2021 stage-3', 21, 182.9, 45.447, 1534, 34, 'RR'], ['tour-de-france 2021 stage-2', 33, 183.5, 42.592, 2210, 102, 'RR'], ['tour-de-france 2021 stage-1', 18, 197.8, 42.525, 2843, 109, 'RR'], ['nc-italy 2021', 9, 225.9, 41.148, 3022, 174, 'RR'], ['giro-d-italia 2021 stage-21', 38, 30.3, 39.523, None, None, 'ITT'], ['giro-d-italia 2021 stage-20', 38, 164.0, 36.732, 3867, 305, 'RR'], ['giro-d-italia 2021 stage-19', 23, 166.0, 41.002, 2811, 292, 'RR'], ['giro-d-italia 2021 stage-18', 97, 231.0, 44.04, 1398, 74, 'RR'], ['giro-d-italia 2021 stage-17', 70, 193.0, 39.303, 3703, 408, 'RR'], ['giro-d-italia 2021 stage-16', 17, 153.0, 34.947, 3942, 295, 'RR'], ['giro-d-italia 2021 stage-15', 62, 147.0, 42.937, 1682, 106, 'RR'], ['giro-d-italia 2021 stage-14', 45, 205.0, 38.756, 3580, 341, 'RR'], ['giro-d-italia 2021 stage-13', 40, 198.0, 42.08, 199, 0, 'RR'], ['giro-d-italia 2021 stage-12', 15, 212.0, 36.998, 4433, 223, 'RR'], ['giro-d-italia 2021 stage-11', 24, 162.0, 40.179, 2364, 174, 'RR'], ['giro-d-italia 2021 stage-10', 25, 139.0, 43.68, 1460, 60, 'RR'], ['giro-d-italia 2021 stage-9', 21, 158.0, 38.167, 3503, 196, 'RR'], ['giro-d-italia 2021 stage-8', 30, 170.0, 41.332, 3085, 133, 'RR'], ['giro-d-italia 2021 stage-7', 31, 181.0, 38.483, 1725, 37, 'RR'], ['giro-d-italia 2021 stage-6', 18, 160.0, 37.229, 3595, 221, 'RR'], ['giro-d-italia 2021 stage-5', 36, 177.0, 42.993, 363, 0, 'RR'], ['giro-d-italia 2021 stage-4', 27, 187.0, 37.571, 3138, 252, 'RR'], ['giro-d-italia 2021 stage-3', 46, 190.0, 43.597, 1870, 103, 'RR'], ['giro-d-italia 2021 stage-2', 34, 179.0, 41.126, 707, 9, 'RR'], ['giro-d-italia 2021 stage-1', 50, 8.6, 58.748, 48, 1, 'ITT'], ['milano-sanremo 2021', 34, 299.0, 45.06, 2020, 59, 'RR'], ['tirreno-adriatico 2021 stage-7', 36, 10.1, 41.6807, None, None, 'ITT'], ['tirreno-adriatico 2021 stage-6', 51, 169.0, 45.64, 1628, 57, 'RR'], ['tirreno-adriatico 2021 stage-5', 20, 205.0, 42.67, 2639, 181, 'RR'], ['tirreno-adriatico 2021 stage-4', 16, 148.0, 38.38, 3023, 244, 'RR'], ['tirreno-adriatico 2021 stage-3', 21, 219.0, 40.52, 3001, 69, 'RR'], ['tirreno-adriatico 2021 stage-2', 16, 202.0, 40.19, 2372, 126, 'RR'], ['tirreno-adriatico 2021 stage-1', 83, 156.0, 43.28, 1032, 24, 'RR'], ['gp-industria-artigianato 2021', 10, 193.4, 43.55, 2259, 90, 'RR'], ['trofeo-laigueglia 2021', 25, 202.0, 40.8, 2973, 151, 'RR'], ['uae-tour 2021 stage-7', 32, 147.0, 43.3569, None, None, 'RR'], ['uae-tour 2021 stage-6', 39, 165.0, 46.61, 363, 1, 'RR'], ['uae-tour 2021 stage-5', 29, 170.0, 39.36, 2633, 176, 'RR'], ['uae-tour 2021 stage-4', 41, 204.0, 41.94, 695, 4, 'RR'], ['uae-tour 2021 stage-3', 13, 166.0, 41.75, 1430, 149, 'RR'], ['uae-tour 2021 stage-2', 36, 13.0, 55.98, 94, 0, 'ITT'], ['uae-tour 2021 stage-1', 82, 176.0, 46.77, 436, 3, 'RR'], ['etoile-de-besseges 2021 stage-5', 18, 10.74, 44.2534, None, None, 'ITT'], ['etoile-de-besseges 2021 stage-4', 46, 152.0, 44.93, 1760, 59, 'RR'], ['etoile-de-besseges 2021 stage-3', 42, 156.9, 45.25, 2036, 61, 'RR'], ['etoile-de-besseges 2021 stage-2', 40, 153.8, 42.87, 1702, 37, 'RR'], ['etoile-de-besseges 2021 stage-1', 13, 143.6, 44.29, 481, 13, 'RR']]\n"
     ]
    }
   ],
   "source": [
    "dataset = []\n",
    "for i in season:\n",
    "    if i['distance'] and i['result'] is not None:\n",
    "        stage = Stage(i[\"stage_url\"])  # una sola chiamata per riga\n",
    "        \n",
    "        # Seleziono il nome della tappa\n",
    "        parti = i[\"stage_url\"].split(\"/\")\n",
    "        if parti[-1] == 'result':\n",
    "            name = parti[1] + \" \" + parti[2]\n",
    "        else:\n",
    "            name = parti[1] + \" \" + parti[2] + \" \" + parti[3]\n",
    "\n",
    "        # Appendo al dataset quanto serve\n",
    "        dataset.append([\n",
    "            name, \n",
    "            i['result'],\n",
    "            i['distance'],\n",
    "            stage.avg_speed_winner(),\n",
    "            stage.vertical_meters(),\n",
    "            stage.profile_score(), \n",
    "            stage.stage_type(),\n",
    "        ])\n",
    "\n",
    "print(dataset)"
   ]
  }
 ],
 "metadata": {
  "kernelspec": {
   "display_name": "Python 3",
   "language": "python",
   "name": "python3"
  },
  "language_info": {
   "codemirror_mode": {
    "name": "ipython",
    "version": 3
   },
   "file_extension": ".py",
   "mimetype": "text/x-python",
   "name": "python",
   "nbconvert_exporter": "python",
   "pygments_lexer": "ipython3",
   "version": "3.10.12"
  }
 },
 "nbformat": 4,
 "nbformat_minor": 5
}
