{
 "cells": [
  {
   "cell_type": "markdown",
   "id": "d136c53b",
   "metadata": {},
   "source": [
    "<center>\n",
    "<h1 style=\"color:red; font-size:70px;\"> Studio dataset</h1>"
   ]
  },
  {
   "cell_type": "code",
   "execution_count": 2,
   "id": "d9113112",
   "metadata": {},
   "outputs": [],
   "source": [
    "import numpy as np\n",
    "import tensorflow as tf\n",
    "import matplotlib.pyplot as plt\n",
    "import matplotlib.patches as patches"
   ]
  },
  {
   "cell_type": "code",
   "execution_count": 3,
   "id": "2e8ca25a",
   "metadata": {},
   "outputs": [
    {
     "name": "stdout",
     "output_type": "stream",
     "text": [
      "Inizia la carica del dataset\n"
     ]
    },
    {
     "name": "stdout",
     "output_type": "stream",
     "text": [
      "Found 28709 files belonging to 7 classes.\n"
     ]
    },
    {
     "name": "stderr",
     "output_type": "stream",
     "text": [
      "2025-09-07 12:51:06.823725: E external/local_xla/xla/stream_executor/cuda/cuda_platform.cc:51] failed call to cuInit: INTERNAL: CUDA error: Failed call to cuInit: CUDA_ERROR_NO_DEVICE: no CUDA-capable device is detected\n"
     ]
    },
    {
     "name": "stdout",
     "output_type": "stream",
     "text": [
      "Found 7178 files belonging to 7 classes.\n",
      "Dataset correttamente caricato!\n"
     ]
    }
   ],
   "source": [
    "print(\"Inizia la carica del dataset\")\n",
    "trDat = tf.keras.utils.image_dataset_from_directory(\n",
    "    \"train\",\n",
    "    shuffle = True,\n",
    "    seed = 123,\n",
    "    image_size = (48, 48),\n",
    "    batch_size = 64,\n",
    "    color_mode = \"grayscale\",\n",
    "    label_mode = \"categorical\"\n",
    ")\n",
    "    \n",
    "teDat = tf.keras.utils.image_dataset_from_directory(\n",
    "    \"test\",\n",
    "    shuffle = True,\n",
    "    seed = 123,\n",
    "    image_size = (48, 48),\n",
    "    batch_size = 64,\n",
    "    color_mode = \"grayscale\",\n",
    "    label_mode = \"categorical\"\n",
    ")\n",
    "print(\"Dataset correttamente caricato!\")"
   ]
  },
  {
   "cell_type": "markdown",
   "id": "e9e6a682",
   "metadata": {},
   "source": [
    "## Esempi di immagini"
   ]
  },
  {
   "cell_type": "code",
   "execution_count": null,
   "id": "f3f1a02b",
   "metadata": {},
   "outputs": [
    {
     "ename": "TypeError",
     "evalue": "'_PrefetchDataset' object is not an iterator",
     "output_type": "error",
     "traceback": [
      "\u001b[0;31m---------------------------------------------------------------------------\u001b[0m",
      "\u001b[0;31mTypeError\u001b[0m                                 Traceback (most recent call last)",
      "Cell \u001b[0;32mIn[4], line 15\u001b[0m\n\u001b[1;32m     11\u001b[0m     plt\u001b[38;5;241m.\u001b[39mshow()\n\u001b[1;32m     14\u001b[0m \u001b[38;5;28mcls\u001b[39m \u001b[38;5;241m=\u001b[39m [\u001b[38;5;124m'\u001b[39m\u001b[38;5;124mangry\u001b[39m\u001b[38;5;124m'\u001b[39m, \u001b[38;5;124m'\u001b[39m\u001b[38;5;124mdisgust\u001b[39m\u001b[38;5;124m'\u001b[39m, \u001b[38;5;124m'\u001b[39m\u001b[38;5;124mfear\u001b[39m\u001b[38;5;124m'\u001b[39m, \u001b[38;5;124m'\u001b[39m\u001b[38;5;124mhappy\u001b[39m\u001b[38;5;124m'\u001b[39m, \u001b[38;5;124m'\u001b[39m\u001b[38;5;124mneutral\u001b[39m\u001b[38;5;124m'\u001b[39m, \u001b[38;5;124m'\u001b[39m\u001b[38;5;124msad\u001b[39m\u001b[38;5;124m'\u001b[39m, \u001b[38;5;124m'\u001b[39m\u001b[38;5;124msurprise\u001b[39m\u001b[38;5;124m'\u001b[39m]\n\u001b[0;32m---> 15\u001b[0m img, lab \u001b[38;5;241m=\u001b[39m \u001b[38;5;28;43mnext\u001b[39;49m\u001b[43m(\u001b[49m\u001b[43mteDat\u001b[49m\u001b[43m)\u001b[49m\n\u001b[1;32m     16\u001b[0m studyDat(img, lab, \u001b[38;5;28mcls\u001b[39m)\n",
      "\u001b[0;31mTypeError\u001b[0m: '_PrefetchDataset' object is not an iterator"
     ]
    }
   ],
   "source": [
    "# Funzione per visualizzare alcuni elementi appartenenti al dataset\n",
    "def studyDat(img, lab, classes):\n",
    "    fig, ax = plt.subplots(4, 3, figsize = (15, 20))\n",
    "    for i in range(0, 4):\n",
    "        for j in range(0, 3):\n",
    "            ax[i][j].imshow(img[5*i+j]/255.)\n",
    "            ax[i][j].set_title(classes[np.argmax(lab[5*i+j])])\n",
    "\n",
    "    fig.suptitle(\"Digits dataset: immagini di prova\", fontsize = 25)\n",
    "    plt.subplots_adjust(top=0.95)\n",
    "    plt.show()\n",
    "\n",
    "\n",
    "cls = ['angry', 'disgust', 'fear', 'happy', 'neutral', 'sad', 'surprise']\n",
    "for img, lab in trDat.take(1):\n",
    "    studyDat(img, lab, cls)"
   ]
  }
 ],
 "metadata": {
  "kernelspec": {
   "display_name": "Python 3",
   "language": "python",
   "name": "python3"
  },
  "language_info": {
   "codemirror_mode": {
    "name": "ipython",
    "version": 3
   },
   "file_extension": ".py",
   "mimetype": "text/x-python",
   "name": "python",
   "nbconvert_exporter": "python",
   "pygments_lexer": "ipython3",
   "version": "3.10.12"
  }
 },
 "nbformat": 4,
 "nbformat_minor": 5
}
