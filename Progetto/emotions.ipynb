{
 "cells": [
  {
   "cell_type": "markdown",
   "id": "535f6d59",
   "metadata": {},
   "source": [
    "<center>\n",
    "<h1 style=\"color:red; font-size:70px;\"> FeelNet</h1>"
   ]
  },
  {
   "cell_type": "code",
   "execution_count": null,
   "id": "448f20f8",
   "metadata": {},
   "outputs": [],
   "source": []
  }
 ],
 "metadata": {
  "language_info": {
   "name": "python"
  }
 },
 "nbformat": 4,
 "nbformat_minor": 5
}
