{
 "cells": [
  {
   "cell_type": "markdown",
   "id": "9e892319",
   "metadata": {},
   "source": [
    "<center>\n",
    "<h1 style=\"color:red; font-size:70px;\"> FeelNet live </h1>"
   ]
  },
  {
   "cell_type": "code",
   "execution_count": 26,
   "id": "e2af50bd",
   "metadata": {},
   "outputs": [],
   "source": [
    "import time\n",
    "import cv2 as cv\n",
    "import numpy as np\n",
    "import matplotlib.pyplot as plt\n",
    "import matplotlib.patches as patches\n",
    "\n",
    "from tensorflow import keras\n",
    "from multiprocessing import Process\n",
    "from tensorflow.keras.models import load_model"
   ]
  },
  {
   "cell_type": "code",
   "execution_count": 7,
   "id": "7fa3336a",
   "metadata": {},
   "outputs": [
    {
     "name": "stderr",
     "output_type": "stream",
     "text": [
      "2025-08-30 11:42:44.046984: E external/local_xla/xla/stream_executor/cuda/cuda_platform.cc:51] failed call to cuInit: INTERNAL: CUDA error: Failed call to cuInit: CUDA_ERROR_NO_DEVICE: no CUDA-capable device is detected\n"
     ]
    }
   ],
   "source": [
    "# Faccio reloading del mio modello\n",
    "model = load_model(\"Modelli/dropoutTry.keras\")  "
   ]
  },
  {
   "cell_type": "markdown",
   "id": "c8d14a98",
   "metadata": {},
   "source": [
    "## Stesso thread "
   ]
  },
  {
   "cell_type": "code",
   "execution_count": 17,
   "id": "44213894",
   "metadata": {},
   "outputs": [
    {
     "name": "stdout",
     "output_type": "stream",
     "text": [
      "\u001b[1m1/1\u001b[0m \u001b[32m━━━━━━━━━━━━━━━━━━━━\u001b[0m\u001b[37m\u001b[0m \u001b[1m0s\u001b[0m 270ms/step\n",
      "Predizione: fear\n",
      "\u001b[1m1/1\u001b[0m \u001b[32m━━━━━━━━━━━━━━━━━━━━\u001b[0m\u001b[37m\u001b[0m \u001b[1m0s\u001b[0m 302ms/step\n",
      "Predizione: fear\n",
      "\u001b[1m1/1\u001b[0m \u001b[32m━━━━━━━━━━━━━━━━━━━━\u001b[0m\u001b[37m\u001b[0m \u001b[1m0s\u001b[0m 157ms/step\n",
      "Predizione: fear\n",
      "\u001b[1m1/1\u001b[0m \u001b[32m━━━━━━━━━━━━━━━━━━━━\u001b[0m\u001b[37m\u001b[0m \u001b[1m0s\u001b[0m 195ms/step\n",
      "Predizione: fear\n",
      "\u001b[1m1/1\u001b[0m \u001b[32m━━━━━━━━━━━━━━━━━━━━\u001b[0m\u001b[37m\u001b[0m \u001b[1m0s\u001b[0m 235ms/step\n",
      "Predizione: fear\n",
      "\u001b[1m1/1\u001b[0m \u001b[32m━━━━━━━━━━━━━━━━━━━━\u001b[0m\u001b[37m\u001b[0m \u001b[1m0s\u001b[0m 146ms/step\n",
      "Predizione: fear\n",
      "\u001b[1m1/1\u001b[0m \u001b[32m━━━━━━━━━━━━━━━━━━━━\u001b[0m\u001b[37m\u001b[0m \u001b[1m0s\u001b[0m 235ms/step\n",
      "Predizione: fear\n",
      "\u001b[1m1/1\u001b[0m \u001b[32m━━━━━━━━━━━━━━━━━━━━\u001b[0m\u001b[37m\u001b[0m \u001b[1m0s\u001b[0m 224ms/step\n",
      "Predizione: fear\n",
      "\u001b[1m1/1\u001b[0m \u001b[32m━━━━━━━━━━━━━━━━━━━━\u001b[0m\u001b[37m\u001b[0m \u001b[1m0s\u001b[0m 197ms/step\n",
      "Predizione: fear\n",
      "\u001b[1m1/1\u001b[0m \u001b[32m━━━━━━━━━━━━━━━━━━━━\u001b[0m\u001b[37m\u001b[0m \u001b[1m0s\u001b[0m 237ms/step\n",
      "Predizione: fear\n",
      "\u001b[1m1/1\u001b[0m \u001b[32m━━━━━━━━━━━━━━━━━━━━\u001b[0m\u001b[37m\u001b[0m \u001b[1m0s\u001b[0m 255ms/step\n",
      "Predizione: happy\n",
      "\u001b[1m1/1\u001b[0m \u001b[32m━━━━━━━━━━━━━━━━━━━━\u001b[0m\u001b[37m\u001b[0m \u001b[1m0s\u001b[0m 178ms/step\n",
      "Predizione: fear\n",
      "\u001b[1m1/1\u001b[0m \u001b[32m━━━━━━━━━━━━━━━━━━━━\u001b[0m\u001b[37m\u001b[0m \u001b[1m0s\u001b[0m 129ms/step\n",
      "Predizione: fear\n",
      "\u001b[1m1/1\u001b[0m \u001b[32m━━━━━━━━━━━━━━━━━━━━\u001b[0m\u001b[37m\u001b[0m \u001b[1m0s\u001b[0m 201ms/step\n",
      "Predizione: neutral\n",
      "\u001b[1m1/1\u001b[0m \u001b[32m━━━━━━━━━━━━━━━━━━━━\u001b[0m\u001b[37m\u001b[0m \u001b[1m0s\u001b[0m 244ms/step\n",
      "Predizione: neutral\n",
      "\u001b[1m1/1\u001b[0m \u001b[32m━━━━━━━━━━━━━━━━━━━━\u001b[0m\u001b[37m\u001b[0m \u001b[1m0s\u001b[0m 315ms/step\n",
      "Predizione: neutral\n",
      "\u001b[1m1/1\u001b[0m \u001b[32m━━━━━━━━━━━━━━━━━━━━\u001b[0m\u001b[37m\u001b[0m \u001b[1m0s\u001b[0m 266ms/step\n",
      "Predizione: neutral\n",
      "\u001b[1m1/1\u001b[0m \u001b[32m━━━━━━━━━━━━━━━━━━━━\u001b[0m\u001b[37m\u001b[0m \u001b[1m0s\u001b[0m 238ms/step\n",
      "Predizione: fear\n",
      "\u001b[1m1/1\u001b[0m \u001b[32m━━━━━━━━━━━━━━━━━━━━\u001b[0m\u001b[37m\u001b[0m \u001b[1m0s\u001b[0m 188ms/step\n",
      "Predizione: fear\n",
      "\u001b[1m1/1\u001b[0m \u001b[32m━━━━━━━━━━━━━━━━━━━━\u001b[0m\u001b[37m\u001b[0m \u001b[1m0s\u001b[0m 229ms/step\n",
      "Predizione: neutral\n"
     ]
    }
   ],
   "source": [
    "# Inizio la cattura video. Il parametro specificato nella funzione VideoCapture è 0 \n",
    "# perchè vogliamo che la sorgente delle immagini sia la videocamera del computer\n",
    "cap = cv.VideoCapture(0)\n",
    "if not cap.isOpened():\n",
    "    print(\"Cannot open camera\")\n",
    "    exit()\n",
    "\n",
    "\n",
    "start = time.perf_counter()\n",
    "lastPred = start\n",
    "# Continuo a leggere le immagini e sulle stesse effettuo le dovute analisi, come per \n",
    "# esempio la riduzione al formato di nostro interesse (48 pixels x 48 pixels)  \n",
    "while time.perf_counter() - start <= 20:\n",
    "    # Inizio a leggere lo stream frame by frame utilizzando .read() di openCV. Tale funzione \n",
    "    # restituisce un bool (True se la lettura dell'immagine è andata a buon fine, False altrimenti)\n",
    "    # ed il frame in questione (che sarà quello su cui andremo ad agire).\n",
    "    ret, frame = cap.read()\n",
    "\n",
    "    # Ogni mezzo secondo faccio post-processing, con anche stampa dell'immagine stessa\n",
    "    if time.perf_counter() - lastPred > 0.5 or lastPred == start:\n",
    "        # Check su lettura adeguata o meno del frame\n",
    "        if not ret:\n",
    "            print(\"Can't receive frame. Exiting ...\")\n",
    "            break\n",
    "\n",
    "        # Di seguito riportiamo l'immagine catturata nel formato richiesto come input dalla \n",
    "        # rete neurale. In farticolare con cv.cvtColor la riproponiamo in scala di grigi, \n",
    "        # mentre con i due passaggi successivi selezioniamo solamente la regione centrale \n",
    "        # del frame, per poi farne un resize\n",
    "        gray = cv.cvtColor(frame, cv.COLOR_BGR2GRAY)\n",
    "        gray = gray[80:400, 160:480]\n",
    "        gray = cv.resize(gray, (48, 48))\n",
    "\n",
    "        # Provo a fare la guess. Dato che è necessario del tempo tecnico per far sì che la \n",
    "        # rete effettui la predizione, decidiamo di provarci ogni 0.5 secondi, in modo da non\n",
    "        # rallentare eccessivamente la visualizzazione\n",
    "        cls = ['angry', 'disgust', 'fear', 'happy', 'neutral', 'sad', 'surprise']\n",
    "        pred = model.predict(np.expand_dims(gray, axis=0))\n",
    "        lastPred = time.perf_counter()\n",
    "        print(\"Predizione: \" + cls[np.argmax(pred)])\n",
    "\n",
    "        # Mostriamo ora il frame a video. Per far sì che l'immagine sia visualizzata con una dimensione\n",
    "        # adeguata, definiamo una finestra della quale specifichiamo la dimensione\n",
    "        cv.namedWindow('frame', cv.WINDOW_NORMAL)\n",
    "        cv.resizeWindow('frame', 400, 300)\n",
    "        cv.imshow('frame', gray)\n",
    "        if cv.waitKey(1) == ord('q'):\n",
    "            break\n",
    "\n",
    "\n",
    "# When everything done, release the capture\n",
    "cap.release()\n",
    "cv.destroyAllWindows()"
   ]
  },
  {
   "cell_type": "markdown",
   "id": "2cb344aa",
   "metadata": {},
   "source": [
    "## Più processori"
   ]
  },
  {
   "cell_type": "code",
   "execution_count": 43,
   "id": "baffe33e",
   "metadata": {},
   "outputs": [
    {
     "name": "stdout",
     "output_type": "stream",
     "text": [
      "0\n"
     ]
    },
    {
     "name": "stdout",
     "output_type": "stream",
     "text": [
      "0\n",
      "10\n"
     ]
    }
   ],
   "source": [
    "import time\n",
    "from multiprocessing import Value, Process\n",
    "\n",
    "def printV(s):\n",
    "    while True:\n",
    "        print(s.value)\n",
    "        time.sleep(5.0)\n",
    "\n",
    "shared_int = Value('i', 0)\n",
    "\n",
    "a = Process(target=printV, args=(shared_int,), daemon=True)\n",
    "a.start()\n",
    "\n",
    "time.sleep(10)\n",
    "shared_int.value = 10\n",
    "time.sleep(5)\n",
    "a.terminate()"
   ]
  },
  {
   "cell_type": "code",
   "execution_count": null,
   "id": "ec10c5c4",
   "metadata": {},
   "outputs": [],
   "source": [
    "from multiprocessing import Array, Process\n",
    "\n",
    "# Funzione per fare guess emozioni\n",
    "def guessImg():\n",
    "    \n",
    "    # Come prima cosa importo il modello, perchè mi servirà per \n",
    "    # fare le guess necessarie\n",
    "    model = load_model(\"Modelli/dropoutTry.keras\")  \n",
    "    "
   ]
  },
  {
   "cell_type": "code",
   "execution_count": null,
   "id": "07e13c52",
   "metadata": {},
   "outputs": [],
   "source": [
    "# Funzione target per il \n",
    "def guessImg\n",
    "\n",
    "# Inizio la cattura video. Il parametro specificato nella funzione VideoCapture è 0 \n",
    "# perchè vogliamo che la sorgente delle immagini sia la videocamera del computer\n",
    "cap = cv.VideoCapture(0)\n",
    "if not cap.isOpened():\n",
    "    print(\"Cannot open camera\")\n",
    "    exit()\n",
    "\n",
    "\n",
    "start = time.perf_counter()\n",
    "lastPred = start\n",
    "# Continuo a leggere le immagini e sulle stesse effettuo le dovute analisi, come per \n",
    "# esempio la riduzione al formato di nostro interesse (48 pixels x 48 pixels)  \n",
    "while time.perf_counter() - start <= 20:\n",
    "    # Inizio a leggere lo stream frame by frame utilizzando .read() di openCV. Tale funzione \n",
    "    # restituisce un bool (True se la lettura dell'immagine è andata a buon fine, False altrimenti)\n",
    "    # ed il frame in questione (che sarà quello su cui andremo ad agire).\n",
    "    ret, frame = cap.read()\n",
    "\n",
    "    # Ogni mezzo secondo faccio post-processing, con anche stampa dell'immagine stessa\n",
    "    if time.perf_counter() - lastPred > 0.5 or lastPred == start:\n",
    "        # Check su lettura adeguata o meno del frame\n",
    "        if not ret:\n",
    "            print(\"Can't receive frame. Exiting ...\")\n",
    "            break\n",
    "\n",
    "        # Di seguito riportiamo l'immagine catturata nel formato richiesto come input dalla \n",
    "        # rete neurale. In farticolare con cv.cvtColor la riproponiamo in scala di grigi, \n",
    "        # mentre con i due passaggi successivi selezioniamo solamente la regione centrale \n",
    "        # del frame, per poi farne un resize\n",
    "        gray = cv.cvtColor(frame, cv.COLOR_BGR2GRAY)\n",
    "        gray = gray[80:400, 160:480]\n",
    "        gray = cv.resize(gray, (48, 48))\n",
    "\n",
    "        # Provo a fare la guess. Dato che è necessario del tempo tecnico per far sì che la \n",
    "        # rete effettui la predizione, decidiamo di provarci ogni 0.5 secondi, in modo da non\n",
    "        # rallentare eccessivamente la visualizzazione\n",
    "        cls = ['angry', 'disgust', 'fear', 'happy', 'neutral', 'sad', 'surprise']\n",
    "        pred = model.predict(np.expand_dims(gray, axis=0))\n",
    "        lastPred = time.perf_counter()\n",
    "        print(\"Predizione: \" + cls[np.argmax(pred)])\n",
    "\n",
    "        # Mostriamo ora il frame a video. Per far sì che l'immagine sia visualizzata con una dimensione\n",
    "        # adeguata, definiamo una finestra della quale specifichiamo la dimensione\n",
    "        cv.namedWindow('frame', cv.WINDOW_NORMAL)\n",
    "        cv.resizeWindow('frame', 400, 300)\n",
    "        cv.imshow('frame', gray)\n",
    "        if cv.waitKey(1) == ord('q'):\n",
    "            break\n",
    "\n",
    "\n",
    "# When everything done, release the capture\n",
    "cap.release()\n",
    "cv.destroyAllWindows()"
   ]
  }
 ],
 "metadata": {
  "kernelspec": {
   "display_name": "Python 3",
   "language": "python",
   "name": "python3"
  },
  "language_info": {
   "codemirror_mode": {
    "name": "ipython",
    "version": 3
   },
   "file_extension": ".py",
   "mimetype": "text/x-python",
   "name": "python",
   "nbconvert_exporter": "python",
   "pygments_lexer": "ipython3",
   "version": "3.10.12"
  }
 },
 "nbformat": 4,
 "nbformat_minor": 5
}
