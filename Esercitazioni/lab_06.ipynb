{
 "cells": [
  {
   "cell_type": "markdown",
   "id": "a21d723f",
   "metadata": {},
   "source": [
    "<center>\n",
    "<h1 style=\"color:red; font-size:70px;\"> Esercitazione 6</h1>"
   ]
  },
  {
   "cell_type": "code",
   "execution_count": 1,
   "id": "c356e81b",
   "metadata": {},
   "outputs": [],
   "source": [
    "import numpy as np\n",
    "import pandas as pd\n",
    "import matplotlib.pyplot as plt\n",
    "\n",
    "from sklearn.datasets import load_iris"
   ]
  },
  {
   "cell_type": "markdown",
   "id": "322e8f38",
   "metadata": {},
   "source": [
    "<h1 style=\"color: blue; font-size:50px;\"> Esercizio 1 - Early stopping</h1>"
   ]
  },
  {
   "cell_type": "markdown",
   "metadata": {},
   "source": []
  },
  {
   "cell_type": "code",
   "execution_count": null,
   "id": "bd2ec15d",
   "metadata": {},
   "outputs": [
    {
     "name": "stdout",
     "output_type": "stream",
     "text": [
      "Contenuto del dataframe\n"
     ]
    }
   ],
   "source": [
    "def stampaCorr(asc, ord, titx, tity, titp):\n",
    "    # Funzione per stampare eventuali correlazioni presenti nel dataset\n",
    "    fig, ax = plt.subplots(2, 2, figsize = (15, 14))\n",
    "\n",
    "    # Doppio ciclo per riempire tutti i plot\n",
    "    for i in range(0, 2):\n",
    "        for j in range(0, 2):\n",
    "            ax[i][j].scatter(irisDf[iris.feature_names[asc[2*i+j]]][iris.target == 0], irisDf[iris.feature_names[ord[2*i+j]]][iris.target == 0], color = 'darkblue', label  = \"Setosa\")\n",
    "            ax[i][j].scatter(irisDf[iris.feature_names[asc[2*i+j]]][iris.target == 1], irisDf[iris.feature_names[ord[2*i+j]]][iris.target == 1], color = 'darkred', label  = \"Versicolor\")\n",
    "            ax[i][j].scatter(irisDf[iris.feature_names[asc[2*i+j]]][iris.target == 2], irisDf[iris.feature_names[ord[2*i+j]]][iris.target == 2], color = 'darkgreen', label  = \"Virginica\")\n",
    "            ax[i][j].set_xlabel(titx[2*i+j])\n",
    "            ax[i][j].set_ylabel(tity[2*i+j])\n",
    "            ax[i][j].set_title(titp[2*i+j])\n",
    "            ax[i][j].legend(loc = 'best')\n",
    "\n",
    "\n",
    "\n",
    "\n",
    "\n",
    "# La prima fase di questo esercizio consiste nell'importare il dataset IRIS, che\n",
    "# restitusce un dizionario le cui flag sono:\n",
    "#       - 'data': matrice con lughezze sepali e petali\n",
    "#       - 'target': etichetta del fiore corrispondente\n",
    "#       - 'feature_names': elenco di stringhe per nomi dati\n",
    "#       - 'target_names': elenco di stringhe per nomi fiori\n",
    "# In particolare 'data' è un array bidimensionale di forma (150, 4) in cui ogni riga\n",
    "# rappresenta un fiore, e ogni colonna rappresenta una delle caratteristiche dello stesso. \n",
    "# Per ogni fiore sono quindi prese in considerazione 4 features, ossia lunghezza e larghezza\n",
    "# del sepalo e del petalo.\n",
    "iris = load_iris()\n",
    "# Per convertire quanto ottenuto come output della funzione load_iris() in un oggetto di pandas \n",
    "# (che è comodo per gestiri tali tipologie di dataset) è possibile specificare nel costruttore \n",
    "# del dataFrame i dati contenuti in iris (ossia lunghezza e larghezza di sepali e petali di ciascun \n",
    "# fiore) ed i nomi delle colonne.\n",
    "irisDf = pd.DataFrame(data = iris.data, columns = iris.feature_names)\n",
    "# In un secondo momento vanno aggiunte delle altre colonne al dataframe, ossia l'etichetta numerica \n",
    "# target, che indica la classe di appartenenza del fiore, ed il nome della classe in questione.\n",
    "# Questa operazione non può essere effettuata in fase di inizializzazione.\n",
    "irisDf['target'] = iris.target\n",
    "irisDf['target_name'] = irisDf['target'].apply(lambda i: iris.target_names[i])\n",
    "\n",
    "# Stampo a video il contenuto del dataframe\n",
    "print(\"Contenuto del dataframe\")\n",
    "irisDf\n",
    "\n",
    "# Stampo a video eventuali correlazioni fra i dati del dataset. Ciò che notiamo è che la classificazione \n",
    "# della classe setosa ci possiamo aspettare che sia più semplice rispetto alla distinzione fra le altre due\n",
    "# classi, poichè si notano degli evidenti cluster riferiti solo alla sottospecie setosa\n",
    "asc = [0, 2, 0, 1]\n",
    "ord = [1, 3, 2, 3]\n",
    "titx = [\"Lunghezza sepalo (cm)\", \"Lunghezza petalo (cm)\", \"Lunghezza sepalo (cm)\", \"Larghezza sepalo (cm)\"]\n",
    "tity = [\"Larghezza sepalo (cm)\", \"Larghezza petalo (cm)\", \"Lunghezza petalo (cm)\", \"Larghezza petalo (cm)\"]\n",
    "titp = [\"Caratteristiche sepalo\", \"Caratteristiche petalo\", \"Caratteristiche lunghezza sepalo - petalo\", \"Caratteristiche larghezza sepalo - petalo\"]\n",
    "\n",
    "stampaCorr(asc, ord, titx, tity, titp)"
   ]
  }
 ],
 "metadata": {
  "kernelspec": {
   "display_name": "Python 3",
   "language": "python",
   "name": "python3"
  },
  "language_info": {
   "codemirror_mode": {
    "name": "ipython",
    "version": 3
   },
   "file_extension": ".py",
   "mimetype": "text/x-python",
   "name": "python",
   "nbconvert_exporter": "python",
   "pygments_lexer": "ipython3",
   "version": "3.10.12"
  }
 },
 "nbformat": 4,
 "nbformat_minor": 5
}
