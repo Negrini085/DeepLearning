{
 "cells": [
  {
   "cell_type": "markdown",
   "id": "a21d723f",
   "metadata": {},
   "source": [
    "<center>\n",
    "<h1 style=\"color:red; font-size:70px;\"> Esercitazione 6</h1>"
   ]
  },
  {
   "cell_type": "code",
   "execution_count": null,
   "id": "c356e81b",
   "metadata": {},
   "outputs": [],
   "source": [
    "import numpy as np\n",
    "import pandas as pd\n",
    "\n",
    "from sklearn.datasets import load_iris"
   ]
  },
  {
   "cell_type": "markdown",
   "id": "322e8f38",
   "metadata": {},
   "source": [
    "<h1 style=\"color: blue; font-size:50px;\"> Esercizio 1 - Early stopping</h1>"
   ]
  },
  {
   "cell_type": "markdown",
   "metadata": {},
   "source": []
  },
  {
   "cell_type": "code",
   "execution_count": null,
   "id": "bd2ec15d",
   "metadata": {},
   "outputs": [
    {
     "name": "stdout",
     "output_type": "stream",
     "text": [
      "0         setosa\n",
      "1         setosa\n",
      "2         setosa\n",
      "3         setosa\n",
      "4         setosa\n",
      "         ...    \n",
      "145    virginica\n",
      "146    virginica\n",
      "147    virginica\n",
      "148    virginica\n",
      "149    virginica\n",
      "Name: target_name, Length: 150, dtype: object\n"
     ]
    }
   ],
   "source": [
    "# La prima fase di questo esercizio consiste nell'importare il dataset IRIS, che\n",
    "# restitusce un dizionario le cui flag sono:\n",
    "#       - 'data': matrice con lughezze sepali e petali\n",
    "#       - 'target': etichetta del fiore corrispondente\n",
    "#       - 'feature_names': elenco di stringhe per nomi dati\n",
    "#       - 'target_names': elenco di stringhe per nomi fiori\n",
    "# In particolare 'data' è un array bidimensionale di forma (150, 4) in cui ogni riga\n",
    "# rappresenta un fiore, e ogni colonna rappresenta una delle caratteristiche dello stesso. \n",
    "# Per ogni fiore sono quindi prese in considerazione 4 features, ossia lunghezza e larghezza\n",
    "# del sepalo e del petalo.\n",
    "iris = load_iris()\n",
    "# Per convertire quanto ottenuto come output della funzione load_iris() in un oggetto di pandas \n",
    "# (che è comodo per gestiri tali tipologie di dataset) è possibile specificare nel costruttore \n",
    "# del dataFrame i dati contenuti in iris (ossia lunghezza e larghezza di sepali e petali di ciascun \n",
    "# fiore) ed i nomi delle colonne.\n",
    "irisDf = pd.DataFrame(data = iris.data, columns = iris.feature_names)\n",
    "# In un secondo momento vanno aggiunte delle altre colonne al dataframe, ossia l'etichetta numerica \n",
    "# target, che indica la classe di appartenenza del fiore, ed il nome della classe in questione.\n",
    "# Questa operazione non può essere effettuata in fase di inizializzazione.\n",
    "irisDf['target'] = iris.target\n",
    "irisDf['target_name'] = irisDf['target'].apply(lambda i: iris.target_names[i])"
   ]
  }
 ],
 "metadata": {
  "kernelspec": {
   "display_name": "Python 3",
   "language": "python",
   "name": "python3"
  },
  "language_info": {
   "codemirror_mode": {
    "name": "ipython",
    "version": 3
   },
   "file_extension": ".py",
   "mimetype": "text/x-python",
   "name": "python",
   "nbconvert_exporter": "python",
   "pygments_lexer": "ipython3",
   "version": "3.10.12"
  }
 },
 "nbformat": 4,
 "nbformat_minor": 5
}
