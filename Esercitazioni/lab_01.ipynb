{
 "cells": [
  {
   "cell_type": "markdown",
   "metadata": {},
   "source": [
    "<center>\n",
    "<h1 style=\"color:red; font-size:70px;\"> Esercitazione 1</h1>"
   ]
  },
  {
   "cell_type": "code",
   "execution_count": 28,
   "metadata": {},
   "outputs": [],
   "source": [
    "import numpy as np\n",
    "import random\n",
    "import matplotlib.pyplot as plt"
   ]
  },
  {
   "cell_type": "markdown",
   "metadata": {},
   "source": [
    "<center>\n",
    "<h1 style=\"color:blue; font-size:50px;\"> Esercizio 1</h1>\n",
    "\n",
    "</center> "
   ]
  },
  {
   "cell_type": "code",
   "execution_count": null,
   "metadata": {},
   "outputs": [
    {
     "name": "stdout",
     "output_type": "stream",
     "text": [
      "Hello World!\n",
      "\n",
      "\n",
      "What's your name?\n",
      "Hello Filippo\n"
     ]
    }
   ],
   "source": [
    "# Funzione di output\n",
    "print(\"Hello World!\")\n",
    "\n",
    "# Funzione di input\n",
    "print('\\n')\n",
    "print(\"What's your name?\")\n",
    "x = input()\n",
    "print(\"Hello \" + x)"
   ]
  },
  {
   "cell_type": "markdown",
   "metadata": {},
   "source": [
    "<center>\n",
    "<h1 style=\"color:blue; font-size:50px;\"> Esercizio 2</h1>\n",
    "\n",
    "</center> "
   ]
  },
  {
   "cell_type": "code",
   "execution_count": null,
   "metadata": {},
   "outputs": [
    {
     "name": "stdout",
     "output_type": "stream",
     "text": [
      "F(3) = 2\n",
      "F(4) = 3\n",
      "F(5) = 5\n",
      "F(6) = 8\n",
      "F(7) = 13\n",
      "F(8) = 21\n",
      "F(9) = 34\n",
      "F(10) = 55\n",
      "F(11) = 89\n",
      "F(12) = 144\n",
      "F(13) = 233\n",
      "F(14) = 377\n",
      "F(15) = 610\n",
      "F(16) = 987\n",
      "F(17) = 1597\n",
      "F(18) = 2584\n",
      "F(19) = 4181\n",
      "F(20) = 6765\n",
      "F(21) = 10946\n",
      "F(22) = 17711\n",
      "F(23) = 28657\n",
      "F(24) = 46368\n",
      "F(25) = 75025\n",
      "F(26) = 121393\n",
      "F(27) = 196418\n",
      "F(28) = 317811\n",
      "F(29) = 514229\n",
      "F(30) = 832040\n",
      "F(31) = 1346269\n",
      "F(32) = 2178309\n",
      "F(33) = 3524578\n",
      "F(34) = 5702887\n",
      "F(35) = 9227465\n",
      "F(36) = 14930352\n",
      "F(37) = 24157817\n",
      "F(38) = 39088169\n",
      "F(39) = 63245986\n",
      "F(40) = 102334155\n",
      "F(41) = 165580141\n",
      "F(42) = 267914296\n",
      "F(43) = 433494437\n",
      "F(44) = 701408733\n",
      "F(45) = 1134903170\n",
      "F(46) = 1836311903\n",
      "F(47) = 2971215073\n",
      "F(48) = 4807526976\n"
     ]
    }
   ],
   "source": [
    "# Fibonacci series\n",
    "if __name__==\"__main__\":\n",
    "    a, b = (1, 1)\n",
    "    target = 48\n",
    "\n",
    "    for i in range(3, target+1):\n",
    "        fib = a + b\n",
    "        print(f\"F({i}) = {fib}\")\n",
    "\n",
    "        a = b\n",
    "        b = fib"
   ]
  },
  {
   "cell_type": "markdown",
   "metadata": {},
   "source": [
    "<center>\n",
    "<h1 style=\"color:blue; font-size:50px;\"> Esercizio 3</h1>\n",
    "\n",
    "</center> "
   ]
  },
  {
   "cell_type": "code",
   "execution_count": null,
   "metadata": {},
   "outputs": [
    {
     "name": "stdout",
     "output_type": "stream",
     "text": [
      "Prima lista: [0, 1, 2, 3, 4, 5, 6, 7, 8, 9, 10, 11, 12, 13, 14, 15]\n",
      "Seconda lista: [0, 1, 2, 3, 4, 5, 6, 7, 8, 9, 10, 11, 12, 13, 14, 15]\n",
      "Non-integer list: [2.01, 4.01, 6.01]\n"
     ]
    }
   ],
   "source": [
    "# create a list and fill it with integers\n",
    "v1 = []\n",
    "v2 = []\n",
    "for i in range(0, 16):\n",
    "    v1.append(i)\n",
    "    v2 = v2 + [i]\n",
    "\n",
    "print(f\"Prima lista: {v1}\")\n",
    "print(f\"Seconda lista: {v2}\")\n",
    "\n",
    "\n",
    "\n",
    "# create a list and fill it with floats\n",
    "v = []\n",
    "for i in range(1, 4):\n",
    "    v += [0.01 + i*2]\n",
    "\n",
    "print(f\"Non-integer list: {v}\")"
   ]
  },
  {
   "cell_type": "code",
   "execution_count": 18,
   "metadata": {},
   "outputs": [
    {
     "name": "stdout",
     "output_type": "stream",
     "text": [
      "Weights: [10, 25, 5]\n",
      "\n",
      "Previous loss: 0.12\n",
      "Actual loss: 10\n"
     ]
    }
   ],
   "source": [
    "# Dictionary use\n",
    "model = {'name': 'neuralnet', \n",
    "         'loss': 0.12, \n",
    "         'weights': [10, 25, 5]\n",
    "        }\n",
    "\n",
    "# Print a dictionary field\n",
    "print(f\"Weights: {model['weights']}\")\n",
    "\n",
    "# Change a dictionary field\n",
    "print()\n",
    "print(f\"Previous loss: {model['loss']}\")\n",
    "model['loss'] = 10\n",
    "print(f\"Actual loss: {model['loss']}\")"
   ]
  },
  {
   "cell_type": "code",
   "execution_count": null,
   "metadata": {},
   "outputs": [
    {
     "name": "stdout",
     "output_type": "stream",
     "text": [
      "Mean list value: 4.857\n"
     ]
    }
   ],
   "source": [
    "# Compute mean for a list (explicit)\n",
    "a = [2, 6, 3, 8, 9, 11, -5]\n",
    "\n",
    "mean = 0\n",
    "for i in range(0, len(a)):\n",
    "    mean += a[i]\n",
    "\n",
    "print(f\"Mean list value: {round(mean/len(a), 3)}\")"
   ]
  },
  {
   "cell_type": "markdown",
   "metadata": {},
   "source": [
    "<center>\n",
    "<h1 style=\"color:blue; font-size:50px;\"> Esercizio 4</h1>\n",
    "\n",
    "</center> "
   ]
  },
  {
   "cell_type": "code",
   "execution_count": 21,
   "metadata": {},
   "outputs": [
    {
     "name": "stdout",
     "output_type": "stream",
     "text": [
      "Mean list value: 4.857\n"
     ]
    }
   ],
   "source": [
    "def mean_value(list):\n",
    "    # Function to compute mean value of a list\n",
    "    mean = 0\n",
    "\n",
    "    if len(list) == 0:\n",
    "        print(\"Lista di lunghezza nulla. Fornisco come risultato zero.\")\n",
    "\n",
    "    else: \n",
    "        for i in range(0, len(list)):\n",
    "            mean += list[i]\n",
    "        mean = mean/len(list)\n",
    "    \n",
    "    return mean   \n",
    "\n",
    "a = [2, 6, 3, 8, 9, 11, -5]\n",
    "print(f\"Mean list value: {round(mean_value(a), 3)}\")"
   ]
  },
  {
   "cell_type": "code",
   "execution_count": 23,
   "metadata": {},
   "outputs": [
    {
     "name": "stdout",
     "output_type": "stream",
     "text": [
      "4!: 24\n",
      "10!: 3628800\n"
     ]
    }
   ],
   "source": [
    "def factorial_func(num):\n",
    "    # Factorial function\n",
    "    if num == 0:\n",
    "        return 1\n",
    "\n",
    "    num = num * factorial_func(num-1)\n",
    "    return num\n",
    "\n",
    "print(f\"4!: {factorial_func(4)}\")\n",
    "print(f\"10!: {factorial_func(10)}\")"
   ]
  },
  {
   "cell_type": "markdown",
   "metadata": {},
   "source": [
    "<center>\n",
    "<h1 style=\"color:blue; font-size:50px;\"> Esercizio 5</h1>\n",
    "\n",
    "</center> "
   ]
  },
  {
   "cell_type": "code",
   "execution_count": 25,
   "metadata": {},
   "outputs": [],
   "source": [
    "class Variable:\n",
    "    def __init__(self, name):\n",
    "        self.name = name\n",
    "\n",
    "    def sample(self, size):\n",
    "        raise NotImplementedError()\n",
    "\n",
    "\n",
    "# Child class\n",
    "class Normal(Variable):\n",
    "    def __init__(self, name):\n",
    "        self.name = name\n",
    "    \n",
    "    def sample(self, size):\n",
    "        a = []\n",
    "        for i in range(0, size):\n",
    "            a += [random.gauss(0, 1)]\n",
    "        return a"
   ]
  },
  {
   "cell_type": "code",
   "execution_count": 29,
   "metadata": {},
   "outputs": [
    {
     "data": {
      "image/png": "[encoded data removed]",
      "text/plain": [
       "<Figure size 640x480 with 1 Axes>"
      ]
     },
     "metadata": {},
     "output_type": "display_data"
    }
   ],
   "source": [
    "# Generate a 10000 gaussian sample\n",
    "normal = Normal(\"Pippo\")\n",
    "data = normal.sample(10000)\n",
    "\n",
    "\n",
    "# Create histogram\n",
    "plt.hist(data, bins=30, density=True, alpha=0.6, color='b', edgecolor='black')\n",
    "\n",
    "plt.title(\"Valori generati: distribuzione normale\")\n",
    "plt.xlabel(\"Valori\")\n",
    "plt.ylabel(\"Densità\")\n",
    "\n",
    "plt.show()"
   ]
  },
  {
   "cell_type": "markdown",
   "metadata": {},
   "source": []
  }
 ],
 "metadata": {
  "kernelspec": {
   "display_name": "Python 3",
   "language": "python",
   "name": "python3"
  },
  "language_info": {
   "codemirror_mode": {
    "name": "ipython",
    "version": 3
   },
   "file_extension": ".py",
   "mimetype": "text/x-python",
   "name": "python",
   "nbconvert_exporter": "python",
   "pygments_lexer": "ipython3",
   "version": "3.10.12"
  }
 },
 "nbformat": 4,
 "nbformat_minor": 2
}
