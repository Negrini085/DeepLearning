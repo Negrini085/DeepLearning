{
 "cells": [
  {
   "cell_type": "markdown",
   "metadata": {},
   "source": [
    "<center>\n",
    "<h1 style=\"color:red; font-size:70px;\"> Esercitazione 1</h1>"
   ]
  },
  {
   "cell_type": "code",
   "execution_count": null,
   "metadata": {},
   "outputs": [],
   "source": [
    "import numpy as np"
   ]
  },
  {
   "cell_type": "markdown",
   "metadata": {},
   "source": [
    "<h1 style=\"color: blue; font-size:50px;\"> Esercizio 1 - Hello World</h1>"
   ]
  },
  {
   "cell_type": "markdown",
   "metadata": {},
   "source": [
    "In questo esercizio introduttivo utilizzo le funzioni per I/O di python, ossia:\n",
    "\n",
    "- **input()**: per inserire delle quantità dall'esterno\n",
    "\n",
    "- **print()**: per stampare quantità a terminale"
   ]
  },
  {
   "cell_type": "code",
   "execution_count": 7,
   "metadata": {},
   "outputs": [
    {
     "name": "stdout",
     "output_type": "stream",
     "text": [
      "Hello World!\n",
      "\n",
      "\n"
     ]
    },
    {
     "name": "stdout",
     "output_type": "stream",
     "text": [
      "Hello, Filippo!\n"
     ]
    }
   ],
   "source": [
    "print(\"Hello World!\")\n",
    "\n",
    "print(\"\\n\")\n",
    "x = input()\n",
    "print(\"Hello, \" + x + \"!\")"
   ]
  },
  {
   "cell_type": "markdown",
   "metadata": {},
   "source": [
    "<h1 style=\"color: blue; font-size:50px;\"> Esercizio 2 - Fibonacci</h1>"
   ]
  },
  {
   "cell_type": "markdown",
   "metadata": {},
   "source": [
    "L'obiettivo di questo esercizio è il calcolo degli elementi costituenti la serie di Fibonacci, strutturando il codice con un main, nel quale vengono calcolate le quantità di interesse. Il codice sarà quindi del tipo:\n",
    "\n",
    "\n",
    "```python\n",
    "def myfunction(x): \n",
    "    \"Funzione in cui vengono fatte certe operazioni\"\n",
    "\n",
    "\n",
    "def main(): \n",
    "    \"Specificato utilizzo myfunction ed altre operazioni\"\n",
    "```\n",
    "\n",
    "Per far eseguire il main è necessario introdurre una condizione logica che testa il contenuto della stringa ```__name__```. Tale quantità viene inizializzata di default a ```__main__```. L'ultima riga del nostro codice sarà quindi quella di \"attivazione\" e consisterà in:\n",
    "\n",
    "```python\n",
    "if __name__ == \"__main__\":\n",
    "    main()\n",
    "```"
   ]
  },
  {
   "cell_type": "code",
   "execution_count": null,
   "metadata": {},
   "outputs": [
    {
     "name": "stdout",
     "output_type": "stream",
     "text": [
      "\n",
      "Serie di Fibonacci:\n",
      "1\n",
      "1\n",
      "2\n",
      "3\n",
      "5\n",
      "8\n",
      "13\n",
      "21\n",
      "34\n",
      "55\n",
      "89\n",
      "144\n"
     ]
    }
   ],
   "source": [
    "def fibonacci(a, b):\n",
    "    # Funzione che calcola elemento seguente successione\n",
    "    return a + b\n",
    "\n",
    "def main():\n",
    "    # Main per calcolo della serie\n",
    "    a, b = (1, 1)\n",
    "\n",
    "    # Chiedo quante cifre vogliono essere calcolate\n",
    "    niter = int(input(\"Quante cifre calcolo?\"))\n",
    "\n",
    "    print(\"\\nSerie di Fibonacci:\")\n",
    "    print(a)\n",
    "    print(b)\n",
    "\n",
    "    for i in range(0, niter):\n",
    "        c = fibonacci(a, b)\n",
    "        a = b\n",
    "        b = c\n",
    "\n",
    "        print(b)\n",
    "\n",
    "\n",
    "if __name__ == \"__main__\":\n",
    "    main()"
   ]
  },
  {
   "cell_type": "markdown",
   "metadata": {},
   "source": [
    "<h1 style=\"color: blue; font-size:50px;\"> Esercizio 3 - Contenitori</h1>"
   ]
  },
  {
   "cell_type": "markdown",
   "metadata": {},
   "source": [
    "Lo scopo di questo esercizio è quello di imparare a utilizzare diversi tipi di contenitori tipici del python, come per esempio le liste o i dizionari."
   ]
  },
  {
   "cell_type": "markdown",
   "metadata": {},
   "source": [
    "##### Liste\n",
    "\n",
    "Le liste in Python sono collezioni ordinate e modificabili di elementi. La sintassi è molto semplice, dato che per inizializzare basta fare\n",
    "\n",
    "```python\n",
    "v = [] \"Lista vuota\"\n",
    "a = [3, 4] \"Lista inizializzata con due elementi\" \n",
    "```\n",
    "\n",
    "Per aggiungere elementi in coda alla lista basta sommarli oppure utilizzare la funzione ```append()```. Per ricavare la lunghezza della lista si può utilizzare la funzione ```len()```"
   ]
  },
  {
   "cell_type": "code",
   "execution_count": 14,
   "metadata": {},
   "outputs": [
    {
     "name": "stdout",
     "output_type": "stream",
     "text": [
      "Lista con interi: [1, 2, 3, 4, 5, 6, 7, 8, 9, 10, 11, 12, 13, 14, 15]\n",
      "\n",
      "Lista con numeri float [0.45, 0.9, 1.35]\n"
     ]
    }
   ],
   "source": [
    "# Creo lista vuota ed aggiungo numeri interi con ciclo for\n",
    "a = []\n",
    "\n",
    "for i in range(1, 16):\n",
    "    a += [i]\n",
    "\n",
    "print(\"Lista con interi:\", a)\n",
    "\n",
    "\n",
    "# Creo una lista vuota ed utilizzo la funzione append per aggiungere tre numeri float\n",
    "b = []\n",
    "\n",
    "for i in range(1, 4):\n",
    "    b.append(i*0.45)\n",
    "\n",
    "print(\"\\nLista con numeri float\", b)"
   ]
  },
  {
   "cell_type": "code",
   "execution_count": null,
   "metadata": {},
   "outputs": [
    {
     "name": "stdout",
     "output_type": "stream",
     "text": [
      "Valore medio della lista:  4.857142857142857\n",
      "Lista con andamento esponenziale:  [1, 2, 4, 8, 16, 32, 64, 128, 256, 512, 1024]\n"
     ]
    }
   ],
   "source": [
    "# Valor medio lista\n",
    "c = [2, 6, 3, 8, 9, 11, -5]\n",
    "med = sum(c)/len(c)\n",
    "\n",
    "print(\"Valore medio della lista: \", med)\n",
    "\n",
    "\n",
    "# Definizione lista con andamento 2 ** n\n",
    "d = [1]\n",
    "for i in range(0, 10):\n",
    "    d += [d[i]*2]\n",
    "\n",
    "print(\"\\nLista con andamento esponenziale: \", d)"
   ]
  },
  {
   "cell_type": "markdown",
   "metadata": {},
   "source": [
    "#### Dizionari\n",
    "\n",
    "I dizionari in Python sono collezioni non ordinate di coppie chiave-valore. In questo caso i \"valori\" non devono essere tutti dello stesso tipo, in quanto è possibile un inizializzazione del tipo:\n",
    "\n",
    "```python\n",
    "g = {'num': 1, \n",
    "'seq': [1, 2]}\n",
    "```\n",
    "\n",
    "Esistono delle funzionalità getter e setter per leggere e modificare il dizionario. In particolare si ha che:\n",
    "\n",
    "```python\n",
    "print(g.get('num')) # Getter\n",
    "g['appo'] = 2.0     # Setter\n",
    "```"
   ]
  },
  {
   "cell_type": "code",
   "execution_count": 19,
   "metadata": {},
   "outputs": [
    {
     "name": "stdout",
     "output_type": "stream",
     "text": [
      "I pesi sono:  [10, 25, 5]\n",
      "\n",
      "Loss precedente:  0.12\n",
      "Loss aggiornata:  10\n"
     ]
    }
   ],
   "source": [
    "# Creo dizionario con specifiche consegna\n",
    "model = {\n",
    "    'name': \"neuralnet\",\n",
    "    'loss': 0.12,\n",
    "    'weights': [10, 25, 5]\n",
    "}\n",
    "\n",
    "print(\"I pesi sono: \", model.get('weights'))\n",
    "\n",
    "print(\"\\nLoss precedente: \", model['loss'])\n",
    "model['loss'] = 10\n",
    "print(\"Loss aggiornata: \", model['loss'])"
   ]
  }
 ],
 "metadata": {
  "kernelspec": {
   "display_name": "Python 3",
   "language": "python",
   "name": "python3"
  },
  "language_info": {
   "codemirror_mode": {
    "name": "ipython",
    "version": 3
   },
   "file_extension": ".py",
   "mimetype": "text/x-python",
   "name": "python",
   "nbconvert_exporter": "python",
   "pygments_lexer": "ipython3",
   "version": "3.10.12"
  }
 },
 "nbformat": 4,
 "nbformat_minor": 2
}
