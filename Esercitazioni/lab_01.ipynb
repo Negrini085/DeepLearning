{
 "cells": [
  {
   "cell_type": "markdown",
   "metadata": {},
   "source": [
    "<center>\n",
    "<h1 style=\"color:red; font-size:70px;\"> Esercitazione 1</h1>"
   ]
  },
  {
   "cell_type": "code",
   "execution_count": null,
   "metadata": {},
   "outputs": [],
   "source": [
    "import numpy as np"
   ]
  },
  {
   "cell_type": "markdown",
   "metadata": {},
   "source": [
    "<h1 style=\"color: blue; font-size:50px;\"> Esercizio 1 - Hello World</h1>"
   ]
  },
  {
   "cell_type": "markdown",
   "metadata": {},
   "source": [
    "In questo esercizio introduttivo utilizzo le funzioni per I/O di python, ossia:\n",
    "\n",
    "- **input()**: per inserire delle quantità dall'esterno\n",
    "\n",
    "- **print()**: per stampare quantità a terminale"
   ]
  },
  {
   "cell_type": "code",
   "execution_count": 7,
   "metadata": {},
   "outputs": [
    {
     "name": "stdout",
     "output_type": "stream",
     "text": [
      "Hello World!\n",
      "\n",
      "\n"
     ]
    },
    {
     "name": "stdout",
     "output_type": "stream",
     "text": [
      "Hello, Filippo!\n"
     ]
    }
   ],
   "source": [
    "print(\"Hello World!\")\n",
    "\n",
    "print(\"\\n\")\n",
    "x = input()\n",
    "print(\"Hello, \" + x + \"!\")"
   ]
  },
  {
   "cell_type": "markdown",
   "metadata": {},
   "source": [
    "<h1 style=\"color: blue; font-size:50px;\"> Esercizio 2 - Fibonacci</h1>"
   ]
  },
  {
   "cell_type": "markdown",
   "metadata": {},
   "source": [
    "L'obiettivo di questo esercizio è il calcolo degli elementi costituenti la serie di Fibonacci, strutturando il codice con un main, nel quale vengono calcolate le quantità di interesse. Il codice sarà quindi del tipo:\n",
    "\n",
    "\n",
    "```python\n",
    "def myfunction(x): \n",
    "    \"Funzione in cui vengono fatte certe operazioni\"\n",
    "\n",
    "\n",
    "def main(): \n",
    "    \"Specificato utilizzo myfunction ed altre operazioni\"\n",
    "```\n",
    "\n",
    "Per far eseguire il main è necessario introdurre una condizione logica che testa il contenuto della stringa ```__name__```. Tale quantità viene inizializzata di default a ```__main__```. L'ultima riga del nostro codice sarà quindi quella di \"attivazione\" e consisterà in:\n",
    "\n",
    "```python\n",
    "if __name__ == \"__main__\":\n",
    "    main()\n",
    "```"
   ]
  },
  {
   "cell_type": "code",
   "execution_count": null,
   "metadata": {},
   "outputs": [
    {
     "name": "stdout",
     "output_type": "stream",
     "text": [
      "\n",
      "Serie di Fibonacci:\n",
      "1\n",
      "1\n",
      "2\n",
      "3\n",
      "5\n",
      "8\n",
      "13\n",
      "21\n",
      "34\n",
      "55\n",
      "89\n",
      "144\n"
     ]
    }
   ],
   "source": [
    "def fibonacci(a, b):\n",
    "    # Funzione che calcola elemento seguente successione\n",
    "    return a + b\n",
    "\n",
    "def main():\n",
    "    # Main per calcolo della serie\n",
    "    a, b = (1, 1)\n",
    "\n",
    "    # Chiedo quante cifre vogliono essere calcolate\n",
    "    niter = int(input(\"Quante cifre calcolo?\"))\n",
    "\n",
    "    print(\"\\nSerie di Fibonacci:\")\n",
    "    print(a)\n",
    "    print(b)\n",
    "\n",
    "    for i in range(0, niter):\n",
    "        c = fibonacci(a, b)\n",
    "        a = b\n",
    "        b = c\n",
    "\n",
    "        print(b)\n",
    "\n",
    "\n",
    "if __name__ == \"__main__\":\n",
    "    main()"
   ]
  }
 ],
 "metadata": {
  "kernelspec": {
   "display_name": "Python 3",
   "language": "python",
   "name": "python3"
  },
  "language_info": {
   "codemirror_mode": {
    "name": "ipython",
    "version": 3
   },
   "file_extension": ".py",
   "mimetype": "text/x-python",
   "name": "python",
   "nbconvert_exporter": "python",
   "pygments_lexer": "ipython3",
   "version": "3.10.12"
  }
 },
 "nbformat": 4,
 "nbformat_minor": 2
}
