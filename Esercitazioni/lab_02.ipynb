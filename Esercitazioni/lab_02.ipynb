{
 "cells": [
  {
   "cell_type": "markdown",
   "id": "e5a9b7e6",
   "metadata": {},
   "source": [
    "<center>\n",
    "<h1 style=\"color:red; font-size:70px;\"> Esercitazione 2</h1>"
   ]
  },
  {
   "cell_type": "code",
   "execution_count": 3,
   "id": "972d5396",
   "metadata": {},
   "outputs": [],
   "source": [
    "import numpy as np"
   ]
  },
  {
   "cell_type": "markdown",
   "id": "32ec67fa",
   "metadata": {},
   "source": [
    "<h1 style=\"color: blue; font-size:50px;\"> Esercizio 1 - Numpy basics</h1>"
   ]
  },
  {
   "cell_type": "markdown",
   "id": "d144110c",
   "metadata": {},
   "source": [
    "NumPy (Numerical Python) è una libreria Python che consente di lavorare in modo efficiente con array, matrici e operazioni matematiche. In questo esercizio siamo interessati a prendere dimestichezza con gli array e con il concetto di deep copy. Nel python l'operazione \n",
    "\n",
    "```python\n",
    "b = a\n",
    "```\n",
    "\n",
    "non produce una copia, ma  due oggetti coincidono (sono lo stesso array). Per separare le celle di memoria è necessario utilizzare il metodo copy, usando quindi:\n",
    "\n",
    "```python\n",
    "c = a.copy()\n",
    "```"
   ]
  },
  {
   "cell_type": "code",
   "execution_count": 15,
   "id": "68e08086",
   "metadata": {},
   "outputs": [
    {
     "name": "stdout",
     "output_type": "stream",
     "text": [
      "Vettore di partenza: \n",
      "\n",
      "Forma del contenitore:  (2, 2)\n",
      "Rango tensore:  2\n",
      "Tipo di dati contenuti:  float32\n",
      "\n",
      "\n",
      "Deep copy con flattening: \n",
      "\n",
      "Forma del contenitore:  (4,)\n",
      "Rango tensore:  1\n",
      "Tipo di dati contenuti:  float32\n",
      "\n",
      "\n",
      "A zero caselle pari: \n",
      "\n",
      "Vettore prima dell'operazione:  [ 0.5 -1.  -1.   2. ]\n",
      "Vettore dopo l'operazione:  [ 0. -1.  0.  2.]\n"
     ]
    }
   ],
   "source": [
    "a = np.array([[0.5, -1], [-1, 2]], dtype=np.float32)\n",
    "\n",
    "# Verifico caratteristiche dell'array\n",
    "print(\"Vettore di partenza: \\n\")\n",
    "print(\"Forma del contenitore: \", a.shape)\n",
    "print(\"Rango tensore: \", a.ndim)\n",
    "print(\"Tipo di dati contenuti: \", a.dtype)\n",
    "\n",
    "\n",
    "# Utilizzo della funzione flatten, con creazione di deep copy\n",
    "b = a.copy().flatten()\n",
    "print(\"\\n\\nDeep copy con flattening: \\n\")\n",
    "print(\"Forma del contenitore: \", b.shape)\n",
    "print(\"Rango tensore: \", b.ndim)\n",
    "print(\"Tipo di dati contenuti: \", b.dtype)\n",
    "\n",
    "\n",
    "# Assegno zero a indici pari\n",
    "print(\"\\n\\nA zero caselle pari: \\n\")\n",
    "print(\"Vettore prima dell'operazione: \", b)\n",
    "b[::2] = 0\n",
    "print(\"Vettore dopo l'operazione: \", b)"
   ]
  },
  {
   "cell_type": "code",
   "execution_count": 8,
   "id": "16d71dfd",
   "metadata": {},
   "outputs": [
    {
     "name": "stdout",
     "output_type": "stream",
     "text": [
      "Esempio copia:\n",
      "\n",
      "Primo vettore pre-operazione:  [1. 2. 3. 4.]\n",
      "Secondo vettore pre-operazione:  [1. 2. 3. 4.]\n",
      "\n",
      "Primo vettore post-operazione:  [1. 1. 3. 4.]\n",
      "Secondo vettore post-operazione:  [1. 1. 3. 4.]\n",
      "\n",
      "\n",
      "\n",
      "Esempio deep-copy:\n",
      "Primo vettore pre-operazione:  [1. 1. 3. 4.]\n",
      "Secondo vettore pre-operazione:  [1. 1. 3. 4.]\n",
      "\n",
      "Primo vettore post-operazione:  [1. 2. 3. 4.]\n",
      "Secondo vettore post-operazione:  [1. 1. 3. 4.]\n"
     ]
    }
   ],
   "source": [
    "a = np.array([1, 2, 3, 4], dtype=np.float32) #dtype mi consente di specificare tipo di dati\n",
    "\n",
    "# Esempio di \"memoria condivisa\" (no deep copy)\n",
    "# Agisco su a, ma l'effetto è evidente anche su b\n",
    "b = a\n",
    "print(\"Esempio copia:\\n\")\n",
    "\n",
    "print(\"Primo vettore pre-operazione: \", a)\n",
    "print(\"Secondo vettore pre-operazione: \", b)\n",
    "\n",
    "a[1] = 1\n",
    "print(\"\\nPrimo vettore post-operazione: \", a)\n",
    "print(\"Secondo vettore post-operazione: \", b)\n",
    "\n",
    "\n",
    "\n",
    "# Esempio di deep copy (oggetti distinti)\n",
    "# Agisco su a, ma l'effetto non è evidente su c\n",
    "c = a.copy()\n",
    "print(\"\\n\\n\\nEsempio deep-copy:\")\n",
    "\n",
    "print(\"Primo vettore pre-operazione: \", a)\n",
    "print(\"Secondo vettore pre-operazione: \", c)\n",
    "\n",
    "a[1] = 2\n",
    "print(\"\\nPrimo vettore post-operazione: \", a)\n",
    "print(\"Secondo vettore post-operazione: \", c)"
   ]
  }
 ],
 "metadata": {
  "kernelspec": {
   "display_name": "Python 3",
   "language": "python",
   "name": "python3"
  },
  "language_info": {
   "codemirror_mode": {
    "name": "ipython",
    "version": 3
   },
   "file_extension": ".py",
   "mimetype": "text/x-python",
   "name": "python",
   "nbconvert_exporter": "python",
   "pygments_lexer": "ipython3",
   "version": "3.10.12"
  }
 },
 "nbformat": 4,
 "nbformat_minor": 5
}
