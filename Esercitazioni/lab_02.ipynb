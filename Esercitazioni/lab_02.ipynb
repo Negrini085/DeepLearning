{
 "cells": [
  {
   "cell_type": "markdown",
   "id": "e5a9b7e6",
   "metadata": {},
   "source": [
    "<center>\n",
    "<h1 style=\"color:red; font-size:70px;\"> Esercitazione 2</h1>"
   ]
  },
  {
   "cell_type": "code",
   "execution_count": 1,
   "id": "972d5396",
   "metadata": {},
   "outputs": [],
   "source": [
    "import time\n",
    "import numpy as np\n",
    "import numba as nb"
   ]
  },
  {
   "cell_type": "markdown",
   "id": "32ec67fa",
   "metadata": {},
   "source": [
    "<h1 style=\"color: blue; font-size:50px;\"> Esercizio 1 - Numpy basics</h1>"
   ]
  },
  {
   "cell_type": "markdown",
   "id": "d144110c",
   "metadata": {},
   "source": [
    "NumPy (Numerical Python) è una libreria Python che consente di lavorare in modo efficiente con array, matrici e operazioni matematiche. In questo esercizio siamo interessati a prendere dimestichezza con gli array e con il concetto di deep copy. Nel python l'operazione \n",
    "\n",
    "```python\n",
    "b = a\n",
    "```\n",
    "\n",
    "non produce una copia, ma  due oggetti coincidono (sono lo stesso array). Per separare le celle di memoria è necessario utilizzare il metodo copy, usando quindi:\n",
    "\n",
    "```python\n",
    "c = a.copy()\n",
    "```"
   ]
  },
  {
   "cell_type": "code",
   "execution_count": 2,
   "id": "68e08086",
   "metadata": {},
   "outputs": [
    {
     "name": "stdout",
     "output_type": "stream",
     "text": [
      "Vettore di partenza: \n",
      "\n",
      "Forma del contenitore:  (2, 2)\n",
      "Rango tensore:  2\n",
      "Tipo di dati contenuti:  float32\n",
      "\n",
      "\n",
      "Deep copy con flattening: \n",
      "\n",
      "Forma del contenitore:  (4,)\n",
      "Rango tensore:  1\n",
      "Tipo di dati contenuti:  float32\n",
      "\n",
      "\n",
      "A zero caselle pari: \n",
      "\n",
      "Vettore prima dell'operazione:  [ 0.5 -1.  -1.   2. ]\n",
      "Vettore dopo l'operazione:  [ 0. -1.  0.  2.]\n"
     ]
    }
   ],
   "source": [
    "a = np.array([[0.5, -1], [-1, 2]], dtype=np.float32)\n",
    "\n",
    "# Verifico caratteristiche dell'array\n",
    "print(\"Vettore di partenza: \\n\")\n",
    "print(\"Forma del contenitore: \", a.shape)\n",
    "print(\"Rango tensore: \", a.ndim)\n",
    "print(\"Tipo di dati contenuti: \", a.dtype)\n",
    "\n",
    "\n",
    "# Utilizzo della funzione flatten, con creazione di deep copy\n",
    "b = a.copy().flatten()\n",
    "print(\"\\n\\nDeep copy con flattening: \\n\")\n",
    "print(\"Forma del contenitore: \", b.shape)\n",
    "print(\"Rango tensore: \", b.ndim)\n",
    "print(\"Tipo di dati contenuti: \", b.dtype)\n",
    "\n",
    "\n",
    "# Assegno zero a indici pari\n",
    "print(\"\\n\\nA zero caselle pari: \\n\")\n",
    "print(\"Vettore prima dell'operazione: \", b)\n",
    "b[::2] = 0\n",
    "print(\"Vettore dopo l'operazione: \", b)"
   ]
  },
  {
   "cell_type": "code",
   "execution_count": 3,
   "id": "16d71dfd",
   "metadata": {},
   "outputs": [
    {
     "name": "stdout",
     "output_type": "stream",
     "text": [
      "Esempio copia:\n",
      "\n",
      "Primo vettore pre-operazione:  [1. 2. 3. 4.]\n",
      "Secondo vettore pre-operazione:  [1. 2. 3. 4.]\n",
      "\n",
      "Primo vettore post-operazione:  [1. 1. 3. 4.]\n",
      "Secondo vettore post-operazione:  [1. 1. 3. 4.]\n",
      "\n",
      "\n",
      "\n",
      "Esempio deep-copy:\n",
      "Primo vettore pre-operazione:  [1. 1. 3. 4.]\n",
      "Secondo vettore pre-operazione:  [1. 1. 3. 4.]\n",
      "\n",
      "Primo vettore post-operazione:  [1. 2. 3. 4.]\n",
      "Secondo vettore post-operazione:  [1. 1. 3. 4.]\n"
     ]
    }
   ],
   "source": [
    "a = np.array([1, 2, 3, 4], dtype=np.float32) #dtype mi consente di specificare tipo di dati\n",
    "\n",
    "# Esempio di \"memoria condivisa\" (no deep copy)\n",
    "# Agisco su a, ma l'effetto è evidente anche su b\n",
    "b = a\n",
    "print(\"Esempio copia:\\n\")\n",
    "\n",
    "print(\"Primo vettore pre-operazione: \", a)\n",
    "print(\"Secondo vettore pre-operazione: \", b)\n",
    "\n",
    "a[1] = 1\n",
    "print(\"\\nPrimo vettore post-operazione: \", a)\n",
    "print(\"Secondo vettore post-operazione: \", b)\n",
    "\n",
    "\n",
    "\n",
    "# Esempio di deep copy (oggetti distinti)\n",
    "# Agisco su a, ma l'effetto non è evidente su c\n",
    "c = a.copy()\n",
    "print(\"\\n\\n\\nEsempio deep-copy:\")\n",
    "\n",
    "print(\"Primo vettore pre-operazione: \", a)\n",
    "print(\"Secondo vettore pre-operazione: \", c)\n",
    "\n",
    "a[1] = 2\n",
    "print(\"\\nPrimo vettore post-operazione: \", a)\n",
    "print(\"Secondo vettore post-operazione: \", c)"
   ]
  },
  {
   "cell_type": "markdown",
   "id": "5d048c7c",
   "metadata": {},
   "source": [
    "<h1 style=\"color: blue; font-size:50px;\"> Esercizio 2 - Numpy basics</h1>"
   ]
  },
  {
   "cell_type": "markdown",
   "id": "29ab7bf2",
   "metadata": {},
   "source": [
    "Questo esercizio ha come obiettivo quello di mostrare come la libreria Numpy sia ottimizzata per la gestione di operazioni di natura matriciale. Questo aspetto è reso evidente dal confronto del tempo richiesto per moltiplicare un vettore per una matrice mediante tre procedure differenti. In particolare:\n",
    "\n",
    "1. prodotto scalare implementato usano i primitive types di python\n",
    "\n",
    "2. prodotto scalare di numpy\n",
    "\n",
    "3. prodotto scalare compilato con numba"
   ]
  },
  {
   "cell_type": "code",
   "execution_count": 4,
   "id": "8a8cd2cc",
   "metadata": {},
   "outputs": [
    {
     "name": "stdout",
     "output_type": "stream",
     "text": [
      "Tipo di dati vettore casuale:  float64\n",
      "Size vettore casuale:  (10000,)\n",
      "\n",
      "Tipo di dati matrice casuale:  float64\n",
      "Size matrice casuale:  (10000, 10000)\n"
     ]
    },
    {
     "name": "stderr",
     "output_type": "stream",
     "text": [
      "/home/filippo/.local/lib/python3.10/site-packages/numba/np/ufunc/parallel.py:371: NumbaWarning: \u001b[1mThe TBB threading layer requires TBB version 2021 update 6 or later i.e., TBB_INTERFACE_VERSION >= 12060. Found TBB_INTERFACE_VERSION = 12050. The TBB threading layer is disabled.\u001b[0m\n",
      "  warnings.warn(problem)\n"
     ]
    }
   ],
   "source": [
    "ndat = int(input(\"Di che dimensione faccio i vettori? \"))\n",
    "\n",
    "# Vettore con entrate casuali e dimensione ndat (fornita da operatore)\n",
    "vec = np.random.uniform(0.0, 1.0, size=ndat) \n",
    "print(\"Tipo di dati vettore casuale: \", vec.dtype)\n",
    "print(\"Size vettore casuale: \", vec.shape)\n",
    "\n",
    "# Matrice con entrate casuali e dimensione ndat*ndat (fornita da operatore)\n",
    "mat = np.random.uniform(0.0, 1.0, size=(ndat, ndat)) \n",
    "print(\"\\nTipo di dati matrice casuale: \", mat.dtype)\n",
    "print(\"Size matrice casuale: \", mat.shape)\n",
    "\n",
    "\n",
    "# Funzione per fare prodotto scalare\n",
    "def dotpr(mat, vec):\n",
    "    if mat.shape[1] != len(vec):\n",
    "       raise ValueError(\"Problemi: dimensioni non compatibili fra matrice e vettore!\")\n",
    "    \n",
    "    appo = np.zeros(mat.shape[0])\n",
    "    for i in range(0, len(appo)):\n",
    "        cont = 0\n",
    "        for j in range(0, len(vec)):\n",
    "            cont += mat[i][j] * vec[j]\n",
    "        appo[i] = cont\n",
    "    \n",
    "    return appo\n",
    "\n",
    "\n",
    "\n",
    "# Funzione per fare prodotto scalare (verà compilata)\n",
    "@nb.njit(\"float64[:](float64[:,:], float64[:])\", parallel=True)\n",
    "def dotprcomp(mat, vec):\n",
    "    if mat.shape[1] != len(vec):\n",
    "       raise ValueError(\"Problemi: dimensioni non compatibili fra matrice e vettore!\")\n",
    "    \n",
    "    appo = np.zeros(mat.shape[0])\n",
    "    for i in range(0, len(appo)):\n",
    "        cont = 0\n",
    "        for j in range(0, len(vec)):\n",
    "            cont += mat[i][j] * vec[j]\n",
    "        appo[i] = cont\n",
    "    \n",
    "    return appo"
   ]
  },
  {
   "cell_type": "code",
   "execution_count": 5,
   "id": "cca4841f",
   "metadata": {},
   "outputs": [
    {
     "name": "stdout",
     "output_type": "stream",
     "text": [
      "Vettore di partenza: [1 2 3]\n",
      "Matrice identità:\n",
      " [[1 0 0]\n",
      " [0 1 0]\n",
      " [0 0 1]]\n",
      "Matrice generica:\n",
      " [[ 1  1  1]\n",
      " [ 0  1  0]\n",
      " [-1  0  1]\n",
      " [ 3  2  1]]\n",
      "\n",
      "\n",
      "\n",
      "Risultato op. identità:  [1. 2. 3.]\n",
      "Risultato op. generica:  [ 6.  2.  2. 10.]\n"
     ]
    }
   ],
   "source": [
    "# Prima di fare un confronto fra metodo numpy e metodo appena implementato, ha senso verificare\n",
    "# se il secondo è corretto o meno\n",
    "\n",
    "# Prima operazione che testiamo è quella dell'identità\n",
    "genm = np.array([[1, 1, 1], [0, 1, 0], [-1, 0, 1], [3, 2, 1]])\n",
    "id = np.array([[1, 0, 0], [0, 1, 0], [0, 0, 1]])\n",
    "a = np.array([1, 2, 3])\n",
    "\n",
    "# Stampo in primis quantità di partenza\n",
    "print(\"Vettore di partenza:\", a)\n",
    "print(\"Matrice identità:\\n\", id)\n",
    "print(\"Matrice generica:\\n\", genm)\n",
    "\n",
    "# Operazioni di test\n",
    "print(\"\\n\\n\\nRisultato op. identità: \", dotpr(id, a))       # Mi aspetto [1, 2, 3]\n",
    "print(\"Risultato op. generica: \", dotpr(genm, a))           # Mi aspetto [6, 2, 2, 10]"
   ]
  },
  {
   "cell_type": "code",
   "execution_count": 6,
   "id": "bcd3df71",
   "metadata": {},
   "outputs": [
    {
     "name": "stdout",
     "output_type": "stream",
     "text": [
      "Native python dot: 118.316501 s\n",
      "Numpy dot: 0.144638 s\n",
      "Numba dot: 0.320905 s\n"
     ]
    }
   ],
   "source": [
    "# Confronto fra operazioni\n",
    "start = time.time()\n",
    "res1 = dotpr(mat, vec)\n",
    "print(\"Native python dot: %f s\" % (time.time() - start))\n",
    "\n",
    "start = time.time()\n",
    "res2 = mat.dot(vec)\n",
    "print(\"Numpy dot: %f s\" % (time.time() - start))\n",
    "\n",
    "if not np.allclose(res1, res2):\n",
    "        raise ValueError(\"python dot and numpy dot do not match.\")\n",
    "\n",
    "start = time.time()\n",
    "res3 = dotprcomp(mat, vec)\n",
    "print(\"Numba dot: %f s\" % (time.time() - start))"
   ]
  }
 ],
 "metadata": {
  "kernelspec": {
   "display_name": "Python 3",
   "language": "python",
   "name": "python3"
  },
  "language_info": {
   "codemirror_mode": {
    "name": "ipython",
    "version": 3
   },
   "file_extension": ".py",
   "mimetype": "text/x-python",
   "name": "python",
   "nbconvert_exporter": "python",
   "pygments_lexer": "ipython3",
   "version": "3.10.12"
  }
 },
 "nbformat": 4,
 "nbformat_minor": 5
}
