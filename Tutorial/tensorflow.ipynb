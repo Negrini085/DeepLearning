{
 "cells": [
  {
   "cell_type": "markdown",
   "metadata": {},
   "source": [
    "<center>\n",
    "<h1 style=\"color:red; font-size:70px;\"> TensorFlow</h1>"
   ]
  },
  {
   "cell_type": "code",
   "execution_count": 1,
   "metadata": {},
   "outputs": [
    {
     "name": "stderr",
     "output_type": "stream",
     "text": [
      "2025-06-23 10:20:51.207752: I external/local_xla/xla/tsl/cuda/cudart_stub.cc:32] Could not find cuda drivers on your machine, GPU will not be used.\n",
      "2025-06-23 10:20:52.762281: I external/local_xla/xla/tsl/cuda/cudart_stub.cc:32] Could not find cuda drivers on your machine, GPU will not be used.\n",
      "2025-06-23 10:20:53.355123: E external/local_xla/xla/stream_executor/cuda/cuda_fft.cc:467] Unable to register cuFFT factory: Attempting to register factory for plugin cuFFT when one has already been registered\n",
      "WARNING: All log messages before absl::InitializeLog() is called are written to STDERR\n",
      "E0000 00:00:1750666853.857929    4905 cuda_dnn.cc:8579] Unable to register cuDNN factory: Attempting to register factory for plugin cuDNN when one has already been registered\n",
      "E0000 00:00:1750666854.011634    4905 cuda_blas.cc:1407] Unable to register cuBLAS factory: Attempting to register factory for plugin cuBLAS when one has already been registered\n",
      "W0000 00:00:1750666855.126823    4905 computation_placer.cc:177] computation placer already registered. Please check linkage and avoid linking the same target more than once.\n",
      "W0000 00:00:1750666855.126862    4905 computation_placer.cc:177] computation placer already registered. Please check linkage and avoid linking the same target more than once.\n",
      "W0000 00:00:1750666855.126864    4905 computation_placer.cc:177] computation placer already registered. Please check linkage and avoid linking the same target more than once.\n",
      "W0000 00:00:1750666855.126866    4905 computation_placer.cc:177] computation placer already registered. Please check linkage and avoid linking the same target more than once.\n",
      "2025-06-23 10:20:55.246163: I tensorflow/core/platform/cpu_feature_guard.cc:210] This TensorFlow binary is optimized to use available CPU instructions in performance-critical operations.\n",
      "To enable the following instructions: AVX2 FMA, in other operations, rebuild TensorFlow with the appropriate compiler flags.\n"
     ]
    }
   ],
   "source": [
    "import tensorflow as tf"
   ]
  },
  {
   "cell_type": "markdown",
   "metadata": {},
   "source": [
    "<center>\n",
    "<h1 style=\"color:blue; font-size:50px;\"> Tensori</h1>\n",
    "\n",
    "</center> "
   ]
  },
  {
   "cell_type": "markdown",
   "metadata": {},
   "source": [
    "TensorFlow è una libreria pensata per compiere calcoli numerici complessi in modo efficiente; è particolarmente utilizzata per lo sviluppo di reti neurali. Esistono due modalità di rappresentazione dei tensori:\n",
    "\n",
    "<br>\n",
    "\n",
    "1. ```tf.constant:``` il suo valore non può essere modificato una volta inizializzato\n",
    "\n",
    "<br>\n",
    "\n",
    "2. ```tf.Variable:``` può cambiare valore nel tempo e per questa caratteristica viene spesso utilizzato per gestire i parametri dei modelli, che cambiano mano a mano che la rete viene addestrata\n",
    "\n",
    "<br>\n",
    "\n",
    "L'inizializzazione di questi due tipi di oggetti è abbastanza simile a quella a cui siamo abituati per i vettori numpy, dato che:\n",
    "\n",
    "<br>\n",
    "\n",
    "```python\n",
    "con = tf.constant([1, 2, 3])      # Oggetto immutabile\n",
    "var = tf.Variable([0, 0, 0])      # Oggetto che può cambiare\n",
    "\n",
    "# Per modificare il valore del tensore di dimensione variabile\n",
    "var.assign([1, 1, 1])\n",
    "```\n",
    "\n",
    "<br>\n",
    "\n",
    "#### Automatic differentiation\n",
    "\n",
    "Con il termine \"differenziazione automatica\" si indicano l'insieme di tecniche per il calcolo automatico delle derivate di una funzione matematica implementata da un programma informatico. Esse sono utili per implementare algoritmi di machine learning basati sul concetto di \"backpropagation\". Un esemio di calcolo del gradiente è riportato in seguito.\n",
    "\n",
    "<br>\n",
    "\n",
    "```python\n",
    "# Calcolo del gradiente\n",
    "x = tf.Variable(2.0)\n",
    "\n",
    "with tf.GradientTape() as tape:\n",
    "    y = x**3 + 2*x**2 + x\n",
    "\n",
    "dy_dx = tape.gradient(y, x)\n",
    "```\n",
    "\n",
    "<br>\n",
    "\n",
    "#### Performance optimization\n",
    "\n",
    "```@tf.function``` è un istruzione che permette di ottimizzare e compilare una funzione Python per migliorare le prestazioni. Il funzionamento di tale flag è su più livelli:\n",
    "\n",
    "1. **Compilazione Just-In-Time (JIT):** TensorFlow compila la funzione, ottimizzando il flusso di calcolo e migliorando le prestazioni, specialmente in presenza di operazioni complesse.\n",
    "\n",
    "2. **Esecuzione più veloce**\n",
    "\n",
    "3. **Tracciamento automatico:** TensorFlow tiene traccia dei tensori che passano attraverso la funzione, ottimizzando l'esecuzione in base ai dati di input."
   ]
  },
  {
   "cell_type": "code",
   "execution_count": null,
   "metadata": {},
   "outputs": [],
   "source": []
  }
 ],
 "metadata": {
  "kernelspec": {
   "display_name": "Python 3",
   "language": "python",
   "name": "python3"
  },
  "language_info": {
   "codemirror_mode": {
    "name": "ipython",
    "version": 3
   },
   "file_extension": ".py",
   "mimetype": "text/x-python",
   "name": "python",
   "nbconvert_exporter": "python",
   "pygments_lexer": "ipython3",
   "version": "3.10.12"
  }
 },
 "nbformat": 4,
 "nbformat_minor": 2
}
